{
 "cells": [
  {
   "cell_type": "code",
   "execution_count": 104,
   "metadata": {
    "collapsed": true
   },
   "outputs": [],
   "source": [
    "import pandas as pd\n",
    "import numpy as np\n",
    "%matplotlib inline"
   ]
  },
  {
   "cell_type": "code",
   "execution_count": 125,
   "metadata": {
    "collapsed": true
   },
   "outputs": [],
   "source": [
    "def grabber(\n",
    "    lat = \"44.3657\", long = \"-121.143\", dist = \"20\", \n",
    "    mindiff = \"5.0\", maxdiff = \"5.12\", results = \"500\", key):\n",
    "    send = \"https://www.mountainproject.com/data/\"\n",
    "    send += \"get-routes-for-lat-lon\"\n",
    "    send += \"?lat=\" + lat\n",
    "    send += \"&lon=\" + long\n",
    "    send += \"&maxDistance=\"+dist\n",
    "    send += \"&minDiff=\"+mindiff\n",
    "    send += \"&maxDiff=\"+maxdiff\n",
    "    send += \"&maxResults=\"+results\n",
    "    send += \"&key=\" + key\n",
    "    \n",
    "    read_json = pd.read_json(send, orient='columns')\n",
    "    return pd.read_json(read_json['routes'].to_json(), orient= 'index')\n",
    "\n"
   ]
  },
  {
   "cell_type": "code",
   "execution_count": 129,
   "metadata": {},
   "outputs": [
    {
     "data": {
      "text/plain": [
       "(655, 15)"
      ]
     },
     "execution_count": 129,
     "metadata": {},
     "output_type": "execute_result"
    }
   ],
   "source": [
    "grades = ['5.' + np.str(i) for i in np.arange(0,16,1)]\n",
    "split = np.array_split(grades,3)\n",
    "splits = len(split)\n",
    "a = [grabber(mindiff=i[0],maxdiff=i[len(i)-1]) for i in split]\n",
    "pd.concat(a).shape"
   ]
  },
  {
   "cell_type": "code",
   "execution_count": 133,
   "metadata": {},
   "outputs": [
    {
     "data": {
      "text/plain": [
       "[array(['5.0', '5.1', '5.2', '5.3', '5.4', '5.5'], \n",
       "       dtype='<U4'), array(['5.6', '5.7', '5.8', '5.9', '5.10'], \n",
       "       dtype='<U4'), array(['5.11', '5.12', '5.13', '5.14', '5.15'], \n",
       "       dtype='<U4')]"
      ]
     },
     "execution_count": 133,
     "metadata": {},
     "output_type": "execute_result"
    }
   ],
   "source": [
    "\n",
    "a = ['5.' + np.str(i) for i in np.arange(0,16,1)]\n",
    "np.array_split(a,3)\n",
    "\n"
   ]
  },
  {
   "cell_type": "code",
   "execution_count": 6,
   "metadata": {
    "collapsed": true
   },
   "outputs": [],
   "source": [
    "route_data = data.drop_duplicates('name')"
   ]
  },
  {
   "cell_type": "code",
   "execution_count": 9,
   "metadata": {
    "scrolled": true
   },
   "outputs": [
    {
     "name": "stderr",
     "output_type": "stream",
     "text": [
      "C:\\Users\\chris\\Anaconda3\\lib\\site-packages\\ipykernel\\__main__.py:1: SettingWithCopyWarning: \n",
      "A value is trying to be set on a copy of a slice from a DataFrame.\n",
      "Try using .loc[row_indexer,col_indexer] = value instead\n",
      "\n",
      "See the caveats in the documentation: http://pandas.pydata.org/pandas-docs/stable/indexing.html#indexing-view-versus-copy\n",
      "  if __name__ == '__main__':\n",
      "C:\\Users\\chris\\Anaconda3\\lib\\site-packages\\ipykernel\\__main__.py:2: SettingWithCopyWarning: \n",
      "A value is trying to be set on a copy of a slice from a DataFrame.\n",
      "Try using .loc[row_indexer,col_indexer] = value instead\n",
      "\n",
      "See the caveats in the documentation: http://pandas.pydata.org/pandas-docs/stable/indexing.html#indexing-view-versus-copy\n",
      "  from ipykernel import kernelapp as app\n"
     ]
    }
   ],
   "source": [
    "route_data['grade'] = route_data['rating'].str.extract('(5.[0-9]{1,2})', expand = False)\n",
    "route_data['risk'] = route_data['rating'].str.extract('(X|R|PG13)', expand = False)"
   ]
  },
  {
   "cell_type": "code",
   "execution_count": 17,
   "metadata": {
    "collapsed": true
   },
   "outputs": [],
   "source": [
    "to_map = route_data[[\n",
    "    'latitude','longitude','name','grade','stars','starVotes']]\n",
    "to_map = to_map.reset_index()\n",
    "to_map['tooltip'] = to_map['name'] + \" \" +to_map['grade']  "
   ]
  },
  {
   "cell_type": "code",
   "execution_count": 14,
   "metadata": {},
   "outputs": [
    {
     "data": {
      "text/plain": [
       "[[44.3676, -121.1448], [44.3679, -121.145]]"
      ]
     },
     "execution_count": 14,
     "metadata": {},
     "output_type": "execute_result"
    }
   ],
   "source": [
    "locations = to_map[['latitude', 'longitude']]\n",
    "locationlist = locations.values.tolist()\n",
    "len(locationlist)\n",
    "locationlist[1:3]"
   ]
  },
  {
   "cell_type": "code",
   "execution_count": 16,
   "metadata": {},
   "outputs": [
    {
     "ename": "ModuleNotFoundError",
     "evalue": "No module named 'folium'",
     "output_type": "error",
     "traceback": [
      "\u001b[0;31m---------------------------------------------------------------------------\u001b[0m",
      "\u001b[0;31mModuleNotFoundError\u001b[0m                       Traceback (most recent call last)",
      "\u001b[0;32m<ipython-input-16-2d0fc4141ba6>\u001b[0m in \u001b[0;36m<module>\u001b[0;34m()\u001b[0m\n\u001b[0;32m----> 1\u001b[0;31m \u001b[1;32mimport\u001b[0m \u001b[0mfolium\u001b[0m\u001b[1;33m\u001b[0m\u001b[0m\n\u001b[0m\u001b[1;32m      2\u001b[0m \u001b[1;33m\u001b[0m\u001b[0m\n\u001b[1;32m      3\u001b[0m \u001b[0mmapit\u001b[0m \u001b[1;33m=\u001b[0m \u001b[0mfolium\u001b[0m\u001b[1;33m.\u001b[0m\u001b[0mMap\u001b[0m\u001b[1;33m(\u001b[0m \u001b[0mlocation\u001b[0m\u001b[1;33m=\u001b[0m\u001b[1;33m[\u001b[0m\u001b[1;36m44.3685\u001b[0m\u001b[1;33m,\u001b[0m\u001b[1;33m-\u001b[0m\u001b[1;36m121.1469\u001b[0m\u001b[1;33m]\u001b[0m\u001b[1;33m,\u001b[0m \u001b[0mzoom_start\u001b[0m\u001b[1;33m=\u001b[0m\u001b[1;36m20\u001b[0m \u001b[1;33m)\u001b[0m\u001b[1;33m\u001b[0m\u001b[0m\n\u001b[1;32m      4\u001b[0m \u001b[1;33m\u001b[0m\u001b[0m\n\u001b[1;32m      5\u001b[0m \u001b[1;33m\u001b[0m\u001b[0m\n",
      "\u001b[0;31mModuleNotFoundError\u001b[0m: No module named 'folium'"
     ]
    }
   ],
   "source": [
    "import folium\n",
    "\n",
    "mapit = folium.Map( location=[44.3685,-121.1469], zoom_start=20 )\n",
    "\n",
    "\n",
    "for point in range(0, len(locationlist)):\n",
    "    folium.CircleMarker(locationlist[point],\n",
    "                    radius=3,\n",
    "                    popup=folium.Popup(to_map['tooltip'][point], parse_html=True),\n",
    "                    color='red',\n",
    "                    fill_color='red',\n",
    "                   ).add_to(mapit)\n",
    "    \n",
    "    \n",
    "\n",
    "mapit.save('map3.html')"
   ]
  }
 ],
 "metadata": {
  "kernelspec": {
   "display_name": "Python 3",
   "language": "python",
   "name": "python3"
  },
  "language_info": {
   "codemirror_mode": {
    "name": "ipython",
    "version": 3
   },
   "file_extension": ".py",
   "mimetype": "text/x-python",
   "name": "python",
   "nbconvert_exporter": "python",
   "pygments_lexer": "ipython3",
   "version": "3.6.0"
  }
 },
 "nbformat": 4,
 "nbformat_minor": 2
}
