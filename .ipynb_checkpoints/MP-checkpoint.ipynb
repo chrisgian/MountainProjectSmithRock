{
 "cells": [
  {
   "cell_type": "code",
   "execution_count": 1,
   "metadata": {},
   "outputs": [],
   "source": [
    "import pandas as pd\n",
    "import numpy as np\n",
    "from time import time, sleep\n",
    "import colour\n",
    "%matplotlib inline\n",
    "key = open(\"c:\\\\users\\cglan\\\\desktop\\\\key.txt\",\"r\").read()"
   ]
  },
  {
   "cell_type": "code",
   "execution_count": 2,
   "metadata": {
    "collapsed": true
   },
   "outputs": [],
   "source": [
    "#file_name = 'index'\n",
    "#lat, lon = '47.8202', '-121.556'\n",
    "     \n",
    "#file_name = 'smith_rock'\n",
    "#lat, lon = '44.3657', '-121.143'\n",
    "\n",
    "file_name = 'devils'\n",
    "lat, lon= '44.59017', '-104.71742'"
   ]
  },
  {
   "cell_type": "code",
   "execution_count": 3,
   "metadata": {},
   "outputs": [],
   "source": [
    "#length of degree\n",
    "def lod(deg, kind):\n",
    "    length_at_equator = 110.5742727\n",
    "    \n",
    "    if kind == 'lon':\n",
    "        out = np.cos(deg * (2 * np.pi) / 360) * length_at_equator\n",
    "    elif kind == 'lat':\n",
    "        out = length_at_equator\n",
    "    return out\n",
    "        \n",
    "def jitter(lon, lat, km):\n",
    "    lon_km_per_degree = lod(lat,'lon')\n",
    "    lon_degree_per_km = 1/lon_km_per_degree\n",
    "    lon_rand = np.random.uniform(-1,1,1)\n",
    "    lon_j = lon + lon_rand*lon_degree_per_km*km\n",
    "    \n",
    "    lat_km_per_degree = lod(lat,'lat')\n",
    "    lat_degree_per_km = 1/lat_km_per_degree\n",
    "    lat_rand = np.random.uniform(-1,1,1)\n",
    "    lat_j = lat + lat_rand*(lat_degree_per_km)*km\n",
    "    \n",
    "    return [lat_j[0],lon_j[0]]\n",
    "\n",
    "def grabber(lat = \"44.3657\", long = \"-121.143\", dist = \"5\",\n",
    "    mindiff = \"5.0\", maxdiff = \"5.12\", results = \"500\", key = key):\n",
    "    send = \"https://www.mountainproject.com/data/\"\n",
    "    send += \"get-routes-for-lat-lon\"\n",
    "    send += \"?lat=\" + lat\n",
    "    send += \"&lon=\" + long\n",
    "    send += \"&maxDistance=\"+dist\n",
    "    send += \"&minDiff=\"+mindiff\n",
    "    send += \"&maxDiff=\"+maxdiff\n",
    "    send += \"&maxResults=\"+results\n",
    "    send += \"&key=\" + key\n",
    "    read_json = pd.read_json(send, orient='columns')\n",
    "    \n",
    "    sleep(2)\n",
    "    return pd.read_json(read_json['routes'].to_json(), orient= 'index')\n",
    "\n",
    "def array_splitter(k, grade_max):\n",
    "    grades = ['5.' + np.str(i) for i in np.arange(0,grade_max,1)]\n",
    "    if (len(grades)/2) >=k: \n",
    "        grades_split = np.array_split(grades,k)\n",
    "        grade_index = np.cumsum([len(i) for i in grades_split])\n",
    "        objs =[]\n",
    "        for item in grade_index:\n",
    "            mindiff = grades[item - np.min(grade_index)]\n",
    "            try:\n",
    "                objs.append(\n",
    "                    [mindiff, grades[item-np.sum((k//2)*2 != k)]]\n",
    "                )\n",
    "            except:\n",
    "                objs.append(\n",
    "                    [mindiff,\n",
    "                     grades[len(grades)-1]\n",
    "                    ])\n",
    "                continue\n",
    "    else: \n",
    "        objs = 'hi'\n",
    "    return objs"
   ]
  },
  {
   "cell_type": "code",
   "execution_count": 4,
   "metadata": {},
   "outputs": [],
   "source": [
    "cuts = array_splitter(5, 16)\n",
    "route_json = [grabber(lat = lat, long = lon , mindiff = grade[0], maxdiff=grade[1]) for grade in cuts]"
   ]
  },
  {
   "cell_type": "markdown",
   "metadata": {},
   "source": [
    "add difficulty"
   ]
  },
  {
   "cell_type": "code",
   "execution_count": 5,
   "metadata": {},
   "outputs": [],
   "source": [
    "route_list = route_json\n",
    "for i in np.arange(0,len(route_list)):\n",
    "    route_list[i]['difficulty'] = (\" to \".join(cuts[i]))"
   ]
  },
  {
   "cell_type": "code",
   "execution_count": 6,
   "metadata": {},
   "outputs": [],
   "source": [
    "route_data = pd.concat(route_list)\n",
    "route_data = route_data.drop_duplicates('name')\n",
    "route_data['grade'] = route_data['rating'].str.extract('(5.[0-9]{1,2})', expand = False)\n",
    "route_data['risk'] = route_data['rating'].str.extract('(X|R|PG13)', expand = False)"
   ]
  },
  {
   "cell_type": "code",
   "execution_count": 7,
   "metadata": {
    "scrolled": true
   },
   "outputs": [
    {
     "data": {
      "text/html": [
       "<div>\n",
       "<table border=\"1\" class=\"dataframe\">\n",
       "  <thead>\n",
       "    <tr style=\"text-align: right;\">\n",
       "      <th></th>\n",
       "      <th>latitude</th>\n",
       "      <th>longitude</th>\n",
       "      <th>name</th>\n",
       "      <th>grade</th>\n",
       "      <th>stars</th>\n",
       "      <th>starVotes</th>\n",
       "      <th>difficulty</th>\n",
       "      <th>tooltip</th>\n",
       "    </tr>\n",
       "  </thead>\n",
       "  <tbody>\n",
       "    <tr>\n",
       "      <th>0</th>\n",
       "      <td>44.5900</td>\n",
       "      <td>-104.7143</td>\n",
       "      <td>Bowling Alley- aka Durrance approach route</td>\n",
       "      <td>5.5</td>\n",
       "      <td>2.9</td>\n",
       "      <td>50.0</td>\n",
       "      <td>5.3 to 5.6</td>\n",
       "      <td>Bowling Alley- aka Durrance approach route 5.5</td>\n",
       "    </tr>\n",
       "    <tr>\n",
       "      <th>1</th>\n",
       "      <td>44.5899</td>\n",
       "      <td>-104.7155</td>\n",
       "      <td>Windex</td>\n",
       "      <td>5.6</td>\n",
       "      <td>5.0</td>\n",
       "      <td>1.0</td>\n",
       "      <td>5.3 to 5.6</td>\n",
       "      <td>Windex 5.6</td>\n",
       "    </tr>\n",
       "    <tr>\n",
       "      <th>2</th>\n",
       "      <td>44.5900</td>\n",
       "      <td>-104.7143</td>\n",
       "      <td>Double-Edged Blade</td>\n",
       "      <td>5.6</td>\n",
       "      <td>4.0</td>\n",
       "      <td>1.0</td>\n",
       "      <td>5.3 to 5.6</td>\n",
       "      <td>Double-Edged Blade 5.6</td>\n",
       "    </tr>\n",
       "    <tr>\n",
       "      <th>3</th>\n",
       "      <td>44.5899</td>\n",
       "      <td>-104.7155</td>\n",
       "      <td>Walt Bailey</td>\n",
       "      <td>5.9</td>\n",
       "      <td>4.9</td>\n",
       "      <td>161.0</td>\n",
       "      <td>5.6 to 5.9</td>\n",
       "      <td>Walt Bailey 5.9</td>\n",
       "    </tr>\n",
       "    <tr>\n",
       "      <th>4</th>\n",
       "      <td>44.5899</td>\n",
       "      <td>-104.7155</td>\n",
       "      <td>Soler</td>\n",
       "      <td>5.9</td>\n",
       "      <td>4.6</td>\n",
       "      <td>253.0</td>\n",
       "      <td>5.6 to 5.9</td>\n",
       "      <td>Soler 5.9</td>\n",
       "    </tr>\n",
       "  </tbody>\n",
       "</table>\n",
       "</div>"
      ],
      "text/plain": [
       "   latitude  longitude                                        name grade  \\\n",
       "0   44.5900  -104.7143  Bowling Alley- aka Durrance approach route   5.5   \n",
       "1   44.5899  -104.7155                                      Windex   5.6   \n",
       "2   44.5900  -104.7143                          Double-Edged Blade   5.6   \n",
       "3   44.5899  -104.7155                                 Walt Bailey   5.9   \n",
       "4   44.5899  -104.7155                                       Soler   5.9   \n",
       "\n",
       "   stars  starVotes  difficulty  \\\n",
       "0    2.9       50.0  5.3 to 5.6   \n",
       "1    5.0        1.0  5.3 to 5.6   \n",
       "2    4.0        1.0  5.3 to 5.6   \n",
       "3    4.9      161.0  5.6 to 5.9   \n",
       "4    4.6      253.0  5.6 to 5.9   \n",
       "\n",
       "                                          tooltip  \n",
       "0  Bowling Alley- aka Durrance approach route 5.5  \n",
       "1                                      Windex 5.6  \n",
       "2                          Double-Edged Blade 5.6  \n",
       "3                                 Walt Bailey 5.9  \n",
       "4                                       Soler 5.9  "
      ]
     },
     "execution_count": 7,
     "metadata": {},
     "output_type": "execute_result"
    }
   ],
   "source": [
    "map_data = route_data.reset_index(drop = True)\n",
    "map_data = map_data[['latitude', 'longitude','name','grade','stars','starVotes','difficulty']]\n",
    "map_data['tooltip'] = map_data['name'] + \" \" +map_data['grade'] # + \" (\" + to_map[\"difficulty\"] + \"; \" + to_map[\"stars\"].astype(str) + \")\"\n",
    "map_data.head()"
   ]
  },
  {
   "cell_type": "code",
   "execution_count": 8,
   "metadata": {},
   "outputs": [],
   "source": [
    "locationlist = map_data[['latitude', 'longitude']].values.tolist()\n",
    "centroid = [np.sum([cord[0] for cord in locationlist])/len(locationlist), np.sum([cord[1] for cord in locationlist])/len(locationlist)]"
   ]
  },
  {
   "cell_type": "code",
   "execution_count": 9,
   "metadata": {
    "collapsed": true
   },
   "outputs": [],
   "source": [
    "map_data[['latitude','longitude']]= map_data[['latitude','longitude']].apply(lambda x: jitter(x[1],x[0], km = .05), axis =1)"
   ]
  },
  {
   "cell_type": "code",
   "execution_count": 10,
   "metadata": {},
   "outputs": [],
   "source": [
    "red = colour.Color(\"#32CD32\")\n",
    "blue = colour.Color(\"#DC143C\")\n",
    "col_range = red.range_to(blue,len(map_data.difficulty.unique()))\n",
    "col_list = pd.DataFrame(\n",
    "    {\"difficulty\": map_data.difficulty.unique(),\n",
    "     \"color\":[str(i) for i in col_range]})\n",
    "map_data = map_data.merge(col_list, on = 'difficulty', how = 'inner')\n"
   ]
  },
  {
   "cell_type": "code",
   "execution_count": 11,
   "metadata": {},
   "outputs": [],
   "source": [
    "import folium\n",
    "mapit = folium.Map( location=centroid, zoom_start=15)\n",
    "for point in range(0, len(map_data)):\n",
    "    folium.CircleMarker(map_data.loc[point,['latitude','longitude']],\n",
    "                    radius=1 + map_data.loc[point,'stars'],\n",
    "                    popup=folium.Popup(map_data.loc[point,'tooltip'], parse_html=True),\n",
    "                    color=map_data.loc[point,'color'],\n",
    "                    fill_color='red',\n",
    "                   ).add_to(mapit)\n",
    "\n",
    "mapit.save(file_name + '.html')"
   ]
  }
 ],
 "metadata": {
  "kernelspec": {
   "display_name": "Python 3",
   "language": "python",
   "name": "python3"
  },
  "language_info": {
   "codemirror_mode": {
    "name": "ipython",
    "version": 3
   },
   "file_extension": ".py",
   "mimetype": "text/x-python",
   "name": "python",
   "nbconvert_exporter": "python",
   "pygments_lexer": "ipython3",
   "version": "3.6.0"
  }
 },
 "nbformat": 4,
 "nbformat_minor": 2
}
